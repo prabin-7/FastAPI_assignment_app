{
 "cells": [
  {
   "cell_type": "code",
   "execution_count": 1,
   "id": "70c9e1e3",
   "metadata": {},
   "outputs": [],
   "source": [
    "import os\n",
    "from pathlib import Path\n",
    "from sklearn.model_selection import train_test_split\n",
    "from sklearn.datasets import load_iris\n",
    "import pandas as pd\n",
    "import numpy as np\n",
    "from sklearn.tree import DecisionTreeClassifier\n",
    "import matplotlib.pyplot as plt"
   ]
  },
  {
   "cell_type": "code",
   "execution_count": 7,
   "id": "2039df37",
   "metadata": {},
   "outputs": [],
   "source": [
    "data_dir = csv_path = Path.cwd()\n",
    "data_path = data_dir/ \"data\"/ \"raw\"/ \"framingham.csv\""
   ]
  },
  {
   "cell_type": "code",
   "execution_count": 8,
   "id": "0a308465",
   "metadata": {},
   "outputs": [
    {
     "name": "stdout",
     "output_type": "stream",
     "text": [
      "   male  age  education  currentSmoker  cigsPerDay  BPMeds  prevalentStroke  \\\n",
      "0     1   39        4.0              0         0.0     0.0                0   \n",
      "1     0   46        2.0              0         0.0     0.0                0   \n",
      "2     1   48        1.0              1        20.0     0.0                0   \n",
      "3     0   61        3.0              1        30.0     0.0                0   \n",
      "4     0   46        3.0              1        23.0     0.0                0   \n",
      "\n",
      "   prevalentHyp  diabetes  totChol  sysBP  diaBP    BMI  heartRate  glucose  \\\n",
      "0             0         0    195.0  106.0   70.0  26.97       80.0     77.0   \n",
      "1             0         0    250.0  121.0   81.0  28.73       95.0     76.0   \n",
      "2             0         0    245.0  127.5   80.0  25.34       75.0     70.0   \n",
      "3             1         0    225.0  150.0   95.0  28.58       65.0    103.0   \n",
      "4             0         0    285.0  130.0   84.0  23.10       85.0     85.0   \n",
      "\n",
      "   TenYearCHD  \n",
      "0           0  \n",
      "1           0  \n",
      "2           0  \n",
      "3           1  \n",
      "4           0  \n",
      "TenYearCHD\n",
      "0    3596\n",
      "1     644\n",
      "Name: count, dtype: int64\n",
      "TenYearCHD\n",
      "0    3179\n",
      "1     572\n",
      "Name: count, dtype: int64\n"
     ]
    }
   ],
   "source": [
    "df = pd.read_csv(data_path)\n",
    "print(df.head())\n",
    "print(df[\"TenYearCHD\"].value_counts())\n",
    "df.drop(['education'], inplace = True, axis = 1)\n",
    "df.rename(columns ={'male':'Sex_male'}, inplace = True)\n",
    "df.dropna(axis=0, inplace=True)\n",
    "\n",
    "print(df[\"TenYearCHD\"].value_counts())\n",
    "\n",
    "# processed_data_dir = Path(__file__).parent.parent / \"data\"/ \"processed\"\n",
    "# processed_path = processed_data_dir/ 'disease_data.csv'\n",
    "\n",
    "# df.to_csv(processed_path, index = False)"
   ]
  },
  {
   "cell_type": "code",
   "execution_count": null,
   "id": "8669d432",
   "metadata": {},
   "outputs": [
    {
     "name": "stdout",
     "output_type": "stream",
     "text": [
      "   Sex_male  age  currentSmoker  cigsPerDay  BPMeds  prevalentStroke  \\\n",
      "0         1   39              0         0.0     0.0                0   \n",
      "1         0   46              0         0.0     0.0                0   \n",
      "2         1   48              1        20.0     0.0                0   \n",
      "3         0   61              1        30.0     0.0                0   \n",
      "4         0   46              1        23.0     0.0                0   \n",
      "\n",
      "   prevalentHyp  diabetes  totChol  sysBP  diaBP    BMI  heartRate  glucose  \n",
      "0             0         0    195.0  106.0   70.0  26.97       80.0     77.0  \n",
      "1             0         0    250.0  121.0   81.0  28.73       95.0     76.0  \n",
      "2             0         0    245.0  127.5   80.0  25.34       75.0     70.0  \n",
      "3             1         0    225.0  150.0   95.0  28.58       65.0    103.0  \n",
      "4             0         0    285.0  130.0   84.0  23.10       85.0     85.0  \n"
     ]
    },
    {
     "data": {
      "text/plain": [
       "(3751, 1)"
      ]
     },
     "execution_count": 17,
     "metadata": {},
     "output_type": "execute_result"
    }
   ],
   "source": [
    "target = df.iloc[:,[-1]]\n",
    "heart_disease = df.iloc[:,:-1]\n",
    "# print(target.head())\n",
    "# print(heart_disease.head())\n",
    "# heart_disease.shape\n",
    "# target.shape"
   ]
  },
  {
   "cell_type": "code",
   "execution_count": 18,
   "id": "cff75a6c",
   "metadata": {},
   "outputs": [
    {
     "name": "stdout",
     "output_type": "stream",
     "text": [
      "Shape of Data:  (3751, 14) (3751, 1)\n",
      "['Sex_male', 'age', 'currentSmoker', 'cigsPerDay', 'BPMeds', 'prevalentStroke', 'prevalentHyp', 'diabetes', 'totChol', 'sysBP', 'diaBP', 'BMI', 'heartRate', 'glucose']\n"
     ]
    }
   ],
   "source": [
    "X, y = heart_disease, target\n",
    "feature_names = X.columns.tolist()\n",
    "target_names = feature_names\n",
    "print(\"Shape of Data: \", X.shape, y.shape)\n",
    "print(target_names)"
   ]
  },
  {
   "cell_type": "code",
   "execution_count": 22,
   "id": "83bffa41",
   "metadata": {},
   "outputs": [
    {
     "data": {
      "image/png": "[encoded data removed]",
      "text/plain": [
       "<Figure size 1200x500 with 2 Axes>"
      ]
     },
     "metadata": {},
     "output_type": "display_data"
    }
   ],
   "source": [
    "X_train, X_test, y_train, y_test = train_test_split(\n",
    "    X,\n",
    "    y,\n",
    "    test_size=0.2,\n",
    "    random_state=42,\n",
    "    stratify=y,\n",
    ")\n",
    "# Data Distribution visualization\n",
    "plt.figure(figsize=(12, 5))\n",
    "\n",
    "y_train = y_train.iloc[:, 0] \n",
    "y_test = y_test.iloc[:, 0] \n",
    "# Plot y_train\n",
    "plt.subplot(1, 2, 1)\n",
    "pd.Series(y_train).value_counts().sort_index().plot(kind=\"bar\", color=[\"purple\", \"g\"])\n",
    "plt.title(\"y_train Distribution\")\n",
    "\n",
    "# Plot y_test\n",
    "plt.subplot(1, 2, 2)\n",
    "pd.Series(y_test).value_counts().sort_index().plot(kind=\"bar\", color=[\"purple\", \"g\"])\n",
    "plt.title(\"y_test Distribution\")\n",
    "plt.tight_layout()\n",
    "plt.show()"
   ]
  },
  {
   "cell_type": "code",
   "execution_count": null,
   "id": "6be1b8de",
   "metadata": {},
   "outputs": [],
   "source": []
  }
 ],
 "metadata": {
  "kernelspec": {
   "display_name": "venv1",
   "language": "python",
   "name": "python3"
  },
  "language_info": {
   "codemirror_mode": {
    "name": "ipython",
    "version": 3
   },
   "file_extension": ".py",
   "mimetype": "text/x-python",
   "name": "python",
   "nbconvert_exporter": "python",
   "pygments_lexer": "ipython3",
   "version": "3.12.3"
  }
 },
 "nbformat": 4,
 "nbformat_minor": 5
}
